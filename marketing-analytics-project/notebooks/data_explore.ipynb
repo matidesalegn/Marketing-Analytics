{
 "cells": [
  {
   "cell_type": "code",
   "execution_count": 5,
   "metadata": {},
   "outputs": [
    {
     "data": {
      "text/html": [
       "<pre style=\"white-space:pre;overflow-x:auto;line-height:normal;font-family:Menlo,'DejaVu Sans Mono',consolas,'Courier New',monospace\"><span style=\"color: #800000; text-decoration-color: #800000\">╭─────────────────────────────── </span><span style=\"color: #800000; text-decoration-color: #800000; font-weight: bold\">Traceback </span><span style=\"color: #bf7f7f; text-decoration-color: #bf7f7f; font-weight: bold\">(most recent call last)</span><span style=\"color: #800000; text-decoration-color: #800000\"> ────────────────────────────────╮</span>\n",
       "<span style=\"color: #800000; text-decoration-color: #800000\">│</span> in <span style=\"color: #00ff00; text-decoration-color: #00ff00\">&lt;module&gt;</span>:<span style=\"color: #0000ff; text-decoration-color: #0000ff\">2</span>                                                                                    <span style=\"color: #800000; text-decoration-color: #800000\">│</span>\n",
       "<span style=\"color: #800000; text-decoration-color: #800000\">│</span>                                                                                                  <span style=\"color: #800000; text-decoration-color: #800000\">│</span>\n",
       "<span style=\"color: #800000; text-decoration-color: #800000\">│</span>   <span style=\"color: #7f7f7f; text-decoration-color: #7f7f7f\"> 1 </span><span style=\"color: #0000ff; text-decoration-color: #0000ff\">from</span> <span style=\"color: #00ffff; text-decoration-color: #00ffff; text-decoration: underline\">kedro.framework.context</span> <span style=\"color: #0000ff; text-decoration-color: #0000ff\">import</span> KedroContext                                            <span style=\"color: #800000; text-decoration-color: #800000\">│</span>\n",
       "<span style=\"color: #800000; text-decoration-color: #800000\">│</span> <span style=\"color: #800000; text-decoration-color: #800000\">❱ </span> 2 <span style=\"color: #0000ff; text-decoration-color: #0000ff\">from</span> <span style=\"color: #00ffff; text-decoration-color: #00ffff; text-decoration: underline\">kedro.config</span> <span style=\"color: #0000ff; text-decoration-color: #0000ff\">import</span> ConfigLoader                                                       <span style=\"color: #800000; text-decoration-color: #800000\">│</span>\n",
       "<span style=\"color: #800000; text-decoration-color: #800000\">│</span>   <span style=\"color: #7f7f7f; text-decoration-color: #7f7f7f\"> 3 </span><span style=\"color: #0000ff; text-decoration-color: #0000ff\">from</span> <span style=\"color: #00ffff; text-decoration-color: #00ffff; text-decoration: underline\">kedro.framework.session</span> <span style=\"color: #0000ff; text-decoration-color: #0000ff\">import</span> KedroSession                                            <span style=\"color: #800000; text-decoration-color: #800000\">│</span>\n",
       "<span style=\"color: #800000; text-decoration-color: #800000\">│</span>   <span style=\"color: #7f7f7f; text-decoration-color: #7f7f7f\"> 4 </span><span style=\"color: #0000ff; text-decoration-color: #0000ff\">from</span> <span style=\"color: #00ffff; text-decoration-color: #00ffff; text-decoration: underline\">kedro.pipeline</span> <span style=\"color: #0000ff; text-decoration-color: #0000ff\">import</span> Pipeline                                                         <span style=\"color: #800000; text-decoration-color: #800000\">│</span>\n",
       "<span style=\"color: #800000; text-decoration-color: #800000\">│</span>   <span style=\"color: #7f7f7f; text-decoration-color: #7f7f7f\"> 5 </span>                                                                                            <span style=\"color: #800000; text-decoration-color: #800000\">│</span>\n",
       "<span style=\"color: #800000; text-decoration-color: #800000\">╰──────────────────────────────────────────────────────────────────────────────────────────────────╯</span>\n",
       "<span style=\"color: #ff0000; text-decoration-color: #ff0000; font-weight: bold\">ImportError: </span>cannot import name <span style=\"color: #008000; text-decoration-color: #008000\">'ConfigLoader'</span> from <span style=\"color: #008000; text-decoration-color: #008000\">'kedro.config'</span> \n",
       "<span style=\"font-weight: bold\">(</span>d:\\marketing_analytics\\.venv\\Lib\\site-packages\\kedro\\config\\__init__.py<span style=\"font-weight: bold\">)</span>\n",
       "</pre>\n"
      ],
      "text/plain": [
       "\u001b[31m╭─\u001b[0m\u001b[31m──────────────────────────────\u001b[0m\u001b[31m \u001b[0m\u001b[1;31mTraceback \u001b[0m\u001b[1;2;31m(most recent call last)\u001b[0m\u001b[31m \u001b[0m\u001b[31m───────────────────────────────\u001b[0m\u001b[31m─╮\u001b[0m\n",
       "\u001b[31m│\u001b[0m in \u001b[92m<module>\u001b[0m:\u001b[94m2\u001b[0m                                                                                    \u001b[31m│\u001b[0m\n",
       "\u001b[31m│\u001b[0m                                                                                                  \u001b[31m│\u001b[0m\n",
       "\u001b[31m│\u001b[0m   \u001b[2m 1 \u001b[0m\u001b[94mfrom\u001b[0m \u001b[4;96mkedro\u001b[0m\u001b[4;96m.\u001b[0m\u001b[4;96mframework\u001b[0m\u001b[4;96m.\u001b[0m\u001b[4;96mcontext\u001b[0m \u001b[94mimport\u001b[0m KedroContext                                            \u001b[31m│\u001b[0m\n",
       "\u001b[31m│\u001b[0m \u001b[31m❱ \u001b[0m 2 \u001b[94mfrom\u001b[0m \u001b[4;96mkedro\u001b[0m\u001b[4;96m.\u001b[0m\u001b[4;96mconfig\u001b[0m \u001b[94mimport\u001b[0m ConfigLoader                                                       \u001b[31m│\u001b[0m\n",
       "\u001b[31m│\u001b[0m   \u001b[2m 3 \u001b[0m\u001b[94mfrom\u001b[0m \u001b[4;96mkedro\u001b[0m\u001b[4;96m.\u001b[0m\u001b[4;96mframework\u001b[0m\u001b[4;96m.\u001b[0m\u001b[4;96msession\u001b[0m \u001b[94mimport\u001b[0m KedroSession                                            \u001b[31m│\u001b[0m\n",
       "\u001b[31m│\u001b[0m   \u001b[2m 4 \u001b[0m\u001b[94mfrom\u001b[0m \u001b[4;96mkedro\u001b[0m\u001b[4;96m.\u001b[0m\u001b[4;96mpipeline\u001b[0m \u001b[94mimport\u001b[0m Pipeline                                                         \u001b[31m│\u001b[0m\n",
       "\u001b[31m│\u001b[0m   \u001b[2m 5 \u001b[0m                                                                                            \u001b[31m│\u001b[0m\n",
       "\u001b[31m╰──────────────────────────────────────────────────────────────────────────────────────────────────╯\u001b[0m\n",
       "\u001b[1;91mImportError: \u001b[0mcannot import name \u001b[32m'ConfigLoader'\u001b[0m from \u001b[32m'kedro.config'\u001b[0m \n",
       "\u001b[1m(\u001b[0md:\\marketing_analytics\\.venv\\Lib\\site-packages\\kedro\\config\\__init__.py\u001b[1m)\u001b[0m\n"
      ]
     },
     "metadata": {},
     "output_type": "display_data"
    }
   ],
   "source": [
    "from kedro.framework.context import KedroContext\n",
    "from kedro.config import ConfigLoader\n",
    "from kedro.framework.session import KedroSession\n",
    "from kedro.pipeline import Pipeline\n",
    "\n",
    "# Initialize Kedro context\n",
    "kedro_context = KedroContext(\n",
    "    package_name=\"marketing_analytics_project\",\n",
    "    project_path=\"D:/marketing_analytics/marketing_analytics_project\",  # Use forward slashes or raw string literal\n",
    ")\n",
    "\n",
    "# Load configuration\n",
    "config_loader = ConfigLoader(conf_source=\"conf/base\")\n",
    "conf_catalog = config_loader.get(\"catalog*\", \"catalog*/**\")\n",
    "\n",
    "# Initialize Kedro session\n",
    "session = KedroSession.create(package_name=\"marketing_analytics_project\", project_path=\"D:/marketing_analytics/marketing_analytics_project\")\n",
    "\n",
    "# Load the Kedro catalog\n",
    "catalog = kedro_context.catalog\n",
    "\n",
    "# Define the pipeline to load data to the database\n",
    "def create_load_pipeline():\n",
    "    return Pipeline([\n",
    "        # Add nodes to load data from intermediate layer to PostgreSQL database\n",
    "        kedro_context.pipeline.node(\n",
    "            func=catalog.load,\n",
    "            inputs=\"filtered_telegram_data\",  # Assuming this is the name of your processed data in the intermediate layer\n",
    "            outputs=None,\n",
    "            name=\"load_from_intermediate\"\n",
    "        ),\n",
    "        kedro_context.pipeline.node(\n",
    "            func=catalog.save,\n",
    "            inputs=None,\n",
    "            outputs=\"raw_data\",  # Assuming this is the name of your primary layer dataset in the catalog\n",
    "            name=\"save_to_database\"\n",
    "        )\n",
    "    ])\n",
    "\n",
    "# Execute the pipeline\n",
    "pipeline = create_load_pipeline()\n",
    "kedro_context.run(pipeline)"
   ]
  }
 ],
 "metadata": {
  "kernelspec": {
   "display_name": ".venv",
   "language": "python",
   "name": "python3"
  },
  "language_info": {
   "codemirror_mode": {
    "name": "ipython",
    "version": 3
   },
   "file_extension": ".py",
   "mimetype": "text/x-python",
   "name": "python",
   "nbconvert_exporter": "python",
   "pygments_lexer": "ipython3",
   "version": "3.12.2"
  }
 },
 "nbformat": 4,
 "nbformat_minor": 2
}
